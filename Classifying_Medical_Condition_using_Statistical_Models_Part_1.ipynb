{
  "cells": [
    {
      "cell_type": "markdown",
      "metadata": {
        "colab_type": "text",
        "id": "XtEjvPOKkiAJ"
      },
      "source": [
        "### Import Libraries\n"
      ]
    },
    {
      "cell_type": "code",
      "execution_count": null,
      "metadata": {
        "colab": {},
        "colab_type": "code",
        "id": "M84HvXipkZfk"
      },
      "outputs": [],
      "source": [
        "import plotly.express as px\n",
        "import pandas as pd\n",
        "\n",
        "from sklearn.model_selection import cross_val_score\n",
        "from sklearn.feature_extraction.text import CountVectorizer\n",
        "from sklearn.ensemble import RandomForestClassifier\n",
        "from sklearn.naive_bayes import MultinomialNB\n",
        "from sklearn.linear_model import SGDClassifier\n",
        "from sklearn.neighbors import KNeighborsClassifier\n",
        "\n",
        "from nltk.corpus import stopwords\n",
        "from nltk.stem import SnowballStemmer"
      ]
    },
    {
      "cell_type": "markdown",
      "metadata": {
        "colab_type": "text",
        "id": "GyBYtDC9k-L8"
      },
      "source": [
        "## Data Preprocessing"
      ]
    },
    {
      "cell_type": "code",
      "execution_count": 7,
      "metadata": {
        "colab": {},
        "colab_type": "code",
        "id": "welfC3_Ekov4"
      },
      "outputs": [],
      "source": [
        "# train data\n",
        "df_train = pd.read_csv(\"./data/drugsComTest_raw.csv\")\n",
        "\n",
        "# test data\n",
        "df_test = pd.read_csv(\"./data/drugsComTest_raw.csv\")"
      ]
    },
    {
      "cell_type": "code",
      "execution_count": 8,
      "metadata": {
        "colab": {},
        "colab_type": "code",
        "id": "fr0m4LH0lGuD"
      },
      "outputs": [],
      "source": [
        "# Removing nan values\n",
        "df_train = df_train.dropna()\n",
        "df_test = df_test.dropna()"
      ]
    },
    {
      "cell_type": "code",
      "execution_count": 9,
      "metadata": {
        "colab": {
          "base_uri": "https://localhost:8080/",
          "height": 202
        },
        "colab_type": "code",
        "id": "1qrGpjiHlIXG",
        "outputId": "f81f8a7a-95ec-43a6-8b85-90efe19e3313"
      },
      "outputs": [
        {
          "data": {
            "text/html": [
              "<div>\n",
              "<style scoped>\n",
              "    .dataframe tbody tr th:only-of-type {\n",
              "        vertical-align: middle;\n",
              "    }\n",
              "\n",
              "    .dataframe tbody tr th {\n",
              "        vertical-align: top;\n",
              "    }\n",
              "\n",
              "    .dataframe thead th {\n",
              "        text-align: right;\n",
              "    }\n",
              "</style>\n",
              "<table border=\"1\" class=\"dataframe\">\n",
              "  <thead>\n",
              "    <tr style=\"text-align: right;\">\n",
              "      <th></th>\n",
              "      <th>uniqueID</th>\n",
              "      <th>drugName</th>\n",
              "      <th>condition</th>\n",
              "      <th>review</th>\n",
              "      <th>rating</th>\n",
              "      <th>date</th>\n",
              "      <th>usefulCount</th>\n",
              "    </tr>\n",
              "  </thead>\n",
              "  <tbody>\n",
              "    <tr>\n",
              "      <th>0</th>\n",
              "      <td>163740</td>\n",
              "      <td>Mirtazapine</td>\n",
              "      <td>Depression</td>\n",
              "      <td>\"I&amp;#039;ve tried a few antidepressants over th...</td>\n",
              "      <td>10</td>\n",
              "      <td>28-Feb-12</td>\n",
              "      <td>22</td>\n",
              "    </tr>\n",
              "    <tr>\n",
              "      <th>1</th>\n",
              "      <td>206473</td>\n",
              "      <td>Mesalamine</td>\n",
              "      <td>Crohn's Disease, Maintenance</td>\n",
              "      <td>\"My son has Crohn&amp;#039;s disease and has done ...</td>\n",
              "      <td>8</td>\n",
              "      <td>17-May-09</td>\n",
              "      <td>17</td>\n",
              "    </tr>\n",
              "    <tr>\n",
              "      <th>2</th>\n",
              "      <td>159672</td>\n",
              "      <td>Bactrim</td>\n",
              "      <td>Urinary Tract Infection</td>\n",
              "      <td>\"Quick reduction of symptoms\"</td>\n",
              "      <td>9</td>\n",
              "      <td>29-Sep-17</td>\n",
              "      <td>3</td>\n",
              "    </tr>\n",
              "    <tr>\n",
              "      <th>3</th>\n",
              "      <td>39293</td>\n",
              "      <td>Contrave</td>\n",
              "      <td>Weight Loss</td>\n",
              "      <td>\"Contrave combines drugs that were used for al...</td>\n",
              "      <td>9</td>\n",
              "      <td>5-Mar-17</td>\n",
              "      <td>35</td>\n",
              "    </tr>\n",
              "    <tr>\n",
              "      <th>4</th>\n",
              "      <td>97768</td>\n",
              "      <td>Cyclafem 1 / 35</td>\n",
              "      <td>Birth Control</td>\n",
              "      <td>\"I have been on this birth control for one cyc...</td>\n",
              "      <td>9</td>\n",
              "      <td>22-Oct-15</td>\n",
              "      <td>4</td>\n",
              "    </tr>\n",
              "  </tbody>\n",
              "</table>\n",
              "</div>"
            ],
            "text/plain": [
              "   uniqueID         drugName                     condition  \\\n",
              "0    163740      Mirtazapine                    Depression   \n",
              "1    206473       Mesalamine  Crohn's Disease, Maintenance   \n",
              "2    159672          Bactrim       Urinary Tract Infection   \n",
              "3     39293         Contrave                   Weight Loss   \n",
              "4     97768  Cyclafem 1 / 35                 Birth Control   \n",
              "\n",
              "                                              review  rating       date  \\\n",
              "0  \"I&#039;ve tried a few antidepressants over th...      10  28-Feb-12   \n",
              "1  \"My son has Crohn&#039;s disease and has done ...       8  17-May-09   \n",
              "2                      \"Quick reduction of symptoms\"       9  29-Sep-17   \n",
              "3  \"Contrave combines drugs that were used for al...       9   5-Mar-17   \n",
              "4  \"I have been on this birth control for one cyc...       9  22-Oct-15   \n",
              "\n",
              "   usefulCount  \n",
              "0           22  \n",
              "1           17  \n",
              "2            3  \n",
              "3           35  \n",
              "4            4  "
            ]
          },
          "execution_count": 9,
          "metadata": {},
          "output_type": "execute_result"
        }
      ],
      "source": [
        "df_train.head()"
      ]
    },
    {
      "cell_type": "markdown",
      "metadata": {
        "colab_type": "text",
        "id": "VqATJK0AlPST"
      },
      "source": [
        "#### Show Class Distibution "
      ]
    },
    {
      "cell_type": "code",
      "execution_count": null,
      "metadata": {
        "colab": {
          "base_uri": "https://localhost:8080/",
          "height": 435
        },
        "colab_type": "code",
        "id": "9hFk5XpslJRQ",
        "outputId": "91e32c2e-8f25-4bb5-c3f8-ff9c7dfae68b"
      },
      "outputs": [
        {
          "name": "stdout",
          "output_type": "stream",
          "text": [
            "Number of classes:  708\n"
          ]
        },
        {
          "data": {
            "application/vnd.plotly.v1+json": {
              "config": {
                "plotlyServerURL": "https://plot.ly"
              },
              "data": [
                {
                  "hovertemplate": "index=%{x}<br>condition=%{y}<extra></extra>",
                  "legendgroup": "",
                  "marker": {
                    "color": "#636efa",
                    "pattern": {
                      "shape": ""
                    }
                  },
                  "name": "",
                  "orientation": "v",
                  "showlegend": false,
                  "textposition": "auto",
                  "type": "bar",
                  "x": {
                    "bdata": "AAABAAIAAwAEAAUABgAHAAgACQAKAAsADAANAA4ADwAQABEAEgATABQAFQAWABcAGAAZABoAGwAcAB0AHgAfACAAIQAiACMAJAAlACYAJwAoACkAKgArACwALQAuAC8AMAAxADIAMwA0ADUANgA3ADgAOQA6ADsAPAA9AD4APwBAAEEAQgBDAEQARQBGAEcASABJAEoASwBMAE0ATgBPAFAAUQBSAFMAVABVAFYAVwBYAFkAWgBbAFwAXQBeAF8AYABhAGIAYwBkAGUAZgBnAGgAaQBqAGsAbABtAG4AbwBwAHEAcgBzAHQAdQB2AHcAeAB5AHoAewB8AH0AfgB/AIAAgQCCAIMAhACFAIYAhwCIAIkAigCLAIwAjQCOAI8AkACRAJIAkwCUAJUAlgCXAJgAmQCaAJsAnACdAJ4AnwCgAKEAogCjAKQApQCmAKcAqACpAKoAqwCsAK0ArgCvALAAsQCyALMAtAC1ALYAtwC4ALkAugC7ALwAvQC+AL8AwADBAMIAwwDEAMUAxgDHAMgAyQDKAMsAzADNAM4AzwDQANEA0gDTANQA1QDWANcA2ADZANoA2wDcAN0A3gDfAOAA4QDiAOMA5ADlAOYA5wDoAOkA6gDrAOwA7QDuAO8A8ADxAPIA8wD0APUA9gD3APgA+QD6APsA/AD9AP4A/wAAAQEBAgEDAQQBBQEGAQcBCAEJAQoBCwEMAQ0BDgEPARABEQESARMBFAEVARYBFwEYARkBGgEbARwBHQEeAR8BIAEhASIBIwEkASUBJgEnASgBKQEqASsBLAEtAS4BLwEwATEBMgEzATQBNQE2ATcBOAE5AToBOwE8AT0BPgE/AUABQQFCAUMBRAFFAUYBRwFIAUkBSgFLAUwBTQFOAU8BUAFRAVIBUwFUAVUBVgFXAVgBWQFaAVsBXAFdAV4BXwFgAWEBYgFjAWQBZQFmAWcBaAFpAWoBawFsAW0BbgFvAXABcQFyAXMBdAF1AXYBdwF4AXkBegF7AXwBfQF+AX8BgAGBAYIBgwGEAYUBhgGHAYgBiQGKAYsBjAGNAY4BjwGQAZEBkgGTAZQBlQGWAZcBmAGZAZoBmwGcAZ0BngGfAaABoQGiAaMBpAGlAaYBpwGoAakBqgGrAawBrQGuAa8BsAGxAbIBswG0AbUBtgG3AbgBuQG6AbsBvAG9Ab4BvwHAAcEBwgHDAcQBxQHGAccByAHJAcoBywHMAc0BzgHPAdAB0QHSAdMB1AHVAdYB1wHYAdkB2gHbAdwB3QHeAd8B4AHhAeIB4wHkAeUB5gHnAegB6QHqAesB7AHtAe4B7wHwAfEB8gHzAfQB9QH2AfcB+AH5AfoB+wH8Af0B/gH/AQACAQICAgMCBAIFAgYCBwIIAgkCCgILAgwCDQIOAg8CEAIRAhICEwIUAhUCFgIXAhgCGQIaAhsCHAIdAh4CHwIgAiECIgIjAiQCJQImAicCKAIpAioCKwIsAi0CLgIvAjACMQIyAjMCNAI1AjYCNwI4AjkCOgI7AjwCPQI+Aj8CQAJBAkICQwJEAkUCRgJHAkgCSQJKAksCTAJNAk4CTwJQAlECUgJTAlQCVQJWAlcCWAJZAloCWwJcAl0CXgJfAmACYQJiAmMCZAJlAmYCZwJoAmkCagJrAmwCbQJuAm8CcAJxAnICcwJ0AnUCdgJ3AngCeQJ6AnsCfAJ9An4CfwKAAoECggKDAoQChQKGAocCiAKJAooCiwKMAo0CjgKPApACkQKSApMClAKVApYClwKYApkCmgKbApwCnQKeAp8CoAKhAqICowKkAqUCpgKnAqgCqQKqAqsCrAKtAq4CrwKwArECsgKzArQCtQK2ArcCuAK5AroCuwK8Ar0CvgK/AsACwQLCAsMC",
                    "dtype": "i2"
                  },
                  "xaxis": "x",
                  "y": [
                    "Birth Control",
                    "Depression",
                    "Pain",
                    "Anxiety",
                    "Acne",
                    "Bipolar Disorde",
                    "Weight Loss",
                    "Insomnia",
                    "Obesity",
                    "ADHD",
                    "Emergency Contraception",
                    "Vaginal Yeast Infection",
                    "Diabetes, Type 2",
                    "High Blood Pressure",
                    "Smoking Cessation",
                    "Abnormal Uterine Bleeding",
                    "Bowel Preparation",
                    "Migraine",
                    "ibromyalgia",
                    "Anxiety and Stress",
                    "Constipation",
                    "Major Depressive Disorde",
                    "Chronic Pain",
                    "Panic Disorde",
                    "Migraine Prevention",
                    "Urinary Tract Infection",
                    "Opiate Dependence",
                    "Muscle Spasm",
                    "Osteoarthritis",
                    "Erectile Dysfunction",
                    "Generalized Anxiety Disorde",
                    "Allergic Rhinitis",
                    "Irritable Bowel Syndrome",
                    "Rheumatoid Arthritis",
                    "Bacterial Infection",
                    "Cough",
                    "Sinusitis",
                    "Nausea/Vomiting",
                    "GERD",
                    "Hepatitis C",
                    "Hyperhidrosis",
                    "Restless Legs Syndrome",
                    "Overactive Bladde",
                    "Multiple Sclerosis",
                    "High Cholesterol",
                    "HIV Infection",
                    "Psoriasis",
                    "Hypogonadism, Male",
                    "Schizophrenia",
                    "Back Pain",
                    "Endometriosis",
                    "Constipation, Chronic",
                    "Seizures",
                    "Rosacea",
                    "Obsessive Compulsive Disorde",
                    "Benign Prostatic Hyperplasia",
                    "Asthma, Maintenance",
                    "Bronchitis",
                    "Bacterial Vaginitis",
                    "Not Listed / Othe",
                    "Headache",
                    "Narcolepsy",
                    "Onychomycosis, Toenail",
                    "Postmenopausal Symptoms",
                    "Social Anxiety Disorde",
                    "Bladder Infection",
                    "Alcohol Dependence",
                    "Herpes Simplex",
                    "Schizoaffective Disorde",
                    "Menstrual Disorders",
                    "Epilepsy",
                    "Post Traumatic Stress Disorde",
                    "Underactive Thyroid",
                    "Influenza",
                    "Cough and Nasal Congestion",
                    "Psoriatic Arthritis",
                    "Opiate Withdrawal",
                    "Cold Sores",
                    "Inflammatory Conditions",
                    "Nasal Congestion",
                    "Breast Cance",
                    "Premenstrual Dysphoric Disorde",
                    "Plaque Psoriasis",
                    "Chlamydia Infection",
                    "Neuropathic Pain",
                    "Pneumonia",
                    "Osteoporosis",
                    "Anesthesia",
                    "Urticaria",
                    "COPD, Maintenance",
                    "Polycystic Ovary Syndrome",
                    "Asthma",
                    "Constipation, Drug Induced",
                    "Helicobacter Pylori Infection",
                    "Atrial Fibrillation",
                    "Ulcerative Colitis",
                    "Crohn's Disease, Maintenance",
                    "Motion Sickness",
                    "mance Anxiety",
                    "Seizure Prevention",
                    "Hashimoto's disease",
                    "Diarrhea",
                    "Alcohol Withdrawal",
                    "Hot Flashes",
                    "Upper Respiratory Tract Infection",
                    "Urinary Incontinence",
                    "Sedation",
                    "Ankylosing Spondylitis",
                    "Peripheral Neuropathy",
                    "Skin or Soft Tissue Infection",
                    "Gout, Acute",
                    "Ovarian Cysts",
                    "Otitis Media",
                    "Diabetic Peripheral Neuropathy",
                    "Dry Eye Disease",
                    "Atopic Dermatitis",
                    "Atrophic Vaginitis",
                    "Crohn's Disease",
                    "Eczema",
                    "Trigeminal Neuralgia",
                    "Borderline Personality Disorde",
                    "Parkinson's Disease",
                    "Strep Throat",
                    "Allergies",
                    "Hirsutism",
                    "Period Pain",
                    "Prostate Cance",
                    "Cluster Headaches",
                    "Interstitial Cystitis",
                    "COPD",
                    "Diabetes, Type 1",
                    "Keratosis",
                    "Bacterial Skin Infection",
                    "Prevention of Thromboembolism in Atrial Fibrillation",
                    "Herpes Simplex, Suppression",
                    "Diverticulitis",
                    "Ulcerative Colitis, Active",
                    "Urinary Tract Stones",
                    "Postherpetic Neuralgia",
                    "Arrhythmia",
                    "Edema",
                    "Sciatica",
                    "Non-Small Cell Lung Cance",
                    "Human Papilloma Virus",
                    "Nausea/Vomiting of Pregnancy",
                    "Hypothyroidism, After Thyroid Removal",
                    "Obstructive Sleep Apnea/Hypopnea Syndrome",
                    "Systemic Lupus Erythematosus",
                    "Alopecia",
                    "Premature Lab",
                    "Supraventricular Tachycardia",
                    "Dermatitis",
                    "Cold Symptoms",
                    "Asthma, acute",
                    "moterol)",
                    "Alzheimer's Disease",
                    "Kidney Infections",
                    "Head Lice",
                    "Rhinitis",
                    "1</span> users found this comment helpful.",
                    "Neuralgia",
                    "Muscle Pain",
                    "Autism",
                    "Anorexia",
                    "Renal Cell Carcinoma",
                    "Allergic Reactions",
                    "Angina",
                    "Hemorrhoids",
                    "Postpartum Depression",
                    "Sexual Dysfunction, SSRI Induced",
                    "Binge Eating Disorde",
                    "Melasma",
                    "Benign Essential Trem",
                    "Dysuria",
                    "Pseudotumor Cerebri",
                    "Chronic Fatigue Syndrome",
                    "Heart Failure",
                    "Chronic Myelogenous Leukemia",
                    "Amenorrhea",
                    "Pulmonary Hypertension",
                    "Breast Cancer, Metastatic",
                    "Gout",
                    "Hypertriglyceridemia",
                    "Keratoconjunctivitis Sicca",
                    "Vitamin/Mineral Supplementation during Pregnancy/Lactation",
                    "Psychosis",
                    "Hypersomnia",
                    "Diarrhea, Chronic",
                    "Shift Work Sleep Disorde",
                    "Prostatitis",
                    "0</span> users found this comment helpful.",
                    "Deep Vein Thrombosis",
                    "Vertig",
                    "Dental Abscess",
                    "Light Sedation",
                    "Tonsillitis/Pharyngitis",
                    "Dry Skin",
                    "Chronic Idiopathic Constipation",
                    "Dietary Supplementation",
                    "emale Infertility",
                    "Cervical Dystonia",
                    "4</span> users found this comment helpful.",
                    "Seasonal Allergic Conjunctivitis",
                    "Stomach Ulce",
                    "Tourette's Syndrome",
                    "Sinus Symptoms",
                    "Conjunctivitis, Allergic",
                    "atigue",
                    "Tendonitis",
                    "Erosive Esophagitis",
                    "Mania",
                    "Pulmonary Embolism",
                    "2</span> users found this comment helpful.",
                    "Indigestion",
                    "Heart Attack",
                    "Trichomoniasis",
                    "5</span> users found this comment helpful.",
                    "Constipation, Acute",
                    "Basal Cell Carcinoma",
                    "Skin and Structure Infection",
                    "6</span> users found this comment helpful.",
                    "Prevention of Bladder infection",
                    "Sjogren's Syndrome",
                    "High Cholesterol, Familial Heterozygous",
                    "Glaucoma, Open Angle",
                    "Barrett's Esophagus",
                    "Conjunctivitis, Bacterial",
                    "Opioid-Induced Constipation",
                    "Periodic Limb Movement Disorde",
                    "Androgenetic Alopecia",
                    "3</span> users found this comment helpful.",
                    "Uterine Fibroids",
                    "Pruritus",
                    "Bulimia",
                    "Menorrhagia",
                    "Nausea/Vomiting, Chemotherapy Induced",
                    "Iron Deficiency Anemia",
                    "Eye Redness",
                    "Perimenopausal Symptoms",
                    "min)",
                    "Breakthrough Pain",
                    "Hyperprolactinemia",
                    "Gastroparesis",
                    "Malaria Prevention",
                    "7</span> users found this comment helpful.",
                    "Soft Tissue Sarcoma",
                    "Myasthenia Gravis",
                    "Light Anesthesia",
                    "Burns, External",
                    "Dermatological Disorders",
                    "Reflex Sympathetic Dystrophy Syndrome",
                    "Postoperative Pain",
                    "Raynaud's Syndrome",
                    "Primary Immunodeficiency Syndrome",
                    "Tinea Pedis",
                    "Organ Transplant, Rejection Prophylaxis",
                    "Ulcerative Colitis, Maintenance",
                    "Tinea Versicol",
                    "Crohn's Disease, Acute",
                    "Chronic Lymphocytic Leukemia",
                    "Otitis Externa",
                    "Prevention of Osteoporosis",
                    "acial Wrinkles",
                    "Neutropenia Associated with Chemotherapy",
                    "Acute Coronary Syndrome",
                    "Pneumococcal Disease Prophylaxis",
                    "Seborrheic Dermatitis",
                    "Lyme Disease",
                    "Herpes Zoste",
                    "Postural Orthostatic Tachycardia Syndrome",
                    "Cutaneous Candidiasis",
                    "Anemia",
                    "Gastroenteritis",
                    "10</span> users found this comment helpful.",
                    "Temporomandibular Joint Disorde",
                    "Macular Degeneration",
                    "Eye Redness/Itching",
                    "Extrapyramidal Reaction",
                    "Paranoid Disorde",
                    "Vulvodynia",
                    "Glaucoma",
                    "Inflammatory Bowel Disease",
                    "Gouty Arthritis",
                    "12</span> users found this comment helpful.",
                    "Tinea Cruris",
                    "Hypoestrogenism",
                    "Mitral Valve Prolapse",
                    "9</span> users found this comment helpful.",
                    "Angina Pectoris Prophylaxis",
                    "Intraocular Hypertension",
                    "Actinic Keratosis",
                    "Meniere's Disease",
                    "Insulin Resistance Syndrome",
                    "Tinnitus",
                    "Ovulation Induction",
                    "Agitated State",
                    "Hepatic Encephalopathy",
                    "Methicillin-Resistant Staphylococcus Aureus Infection",
                    "min / sitagliptin)",
                    "Uveitis",
                    "Atrial Flutte",
                    "Photoaging of the Skin",
                    "Postoperative Ocular Inflammation",
                    "Clostridial Infection",
                    "Ischemic Stroke, Prophylaxis",
                    "Human Papillomavirus Prophylaxis",
                    "Nocturnal Leg Cramps",
                    "Xerostomia",
                    "Anemia Associated with Chronic Renal Failure",
                    "Juvenile Rheumatoid Arthritis",
                    "Diabetes Insipidus",
                    "Surgical Prophylaxis",
                    "Giardiasis",
                    "Left Ventricular Dysfunction",
                    "zen Shoulde",
                    "Asperger Syndrome",
                    "Gas",
                    "Vitamin/Mineral Supplementation and Deficiency",
                    "Nightmares",
                    "Bronchospasm Prophylaxis",
                    "Conjunctivitis",
                    "Pseudobulbar Affect",
                    "Idiopathic Thrombocytopenic Purpura",
                    "Hepatitis B",
                    "Pancreatic Exocrine Dysfunction",
                    "Premenstrual Syndrome",
                    "Duodenal Ulce",
                    "Juvenile Idiopathic Arthritis",
                    "moterol / mometasone)",
                    "Onychomycosis, Fingernail",
                    "Swine Flu",
                    "Undifferentiated Connective Tissue Disease",
                    "Malaria",
                    "Hereditary Angioedema",
                    "Diagnosis and Investigation",
                    "Benzodiazepine Withdrawal",
                    "Cystic Fibrosis",
                    "8</span> users found this comment helpful.",
                    "Nausea/Vomiting, Postoperative",
                    "Herpes Simplex, Mucocutaneous/Immunocompetent Host",
                    "Allergic Urticaria",
                    "Precocious Puberty",
                    "Vitamin D Deficiency",
                    "Tinea Corporis",
                    "Breast Cancer, Adjuvant",
                    "Autoimmune Hepatitis",
                    "Pinworm Infection (Enterobius vermicularis)",
                    "Myelodysplastic Syndrome",
                    "Hiccups",
                    "TSH Suppression",
                    "Deep Vein Thrombosis, Prophylaxis",
                    "Agitation",
                    "Dermatologic Lesion",
                    "ge (amlodipine / valsartan)",
                    "Night Terrors",
                    "Diaper Rash",
                    "Nasal Polyps",
                    "Condylomata Acuminata",
                    "COPD, Acute",
                    "39</span> users found this comment helpful.",
                    "18</span> users found this comment helpful.",
                    "Dysautonomia",
                    "Hyperlipoproteinemia Type IIa, Elevated LDL",
                    "Diabetic Kidney Disease",
                    "Influenza Prophylaxis",
                    "Dyspareunia",
                    "Noninfectious Colitis",
                    "Herbal Supplementation",
                    "Cyclic Vomiting Syndrome",
                    "Biliary Cirrhosis",
                    "Peptic Ulce",
                    "Labor Induction",
                    "Burning Mouth Syndrome",
                    "Gingivitis",
                    "Breast Cancer, Prevention",
                    "Mucositis",
                    "Labor Pain",
                    "17</span> users found this comment helpful.",
                    "Non-Hodgkin's Lymphoma",
                    "Chronic Pancreatitis",
                    "Anal Fissure and Fistula",
                    "15</span> users found this comment helpful.",
                    "Vitamin B12 Deficiency",
                    "Infection Prophylaxis",
                    "13</span> users found this comment helpful.",
                    "Lennox-Gastaut Syndrome",
                    "Opioid Overdose",
                    "Hyperphosphatemia of Renal Failure",
                    "Pediatric Growth Hormone Deficiency",
                    "14</span> users found this comment helpful.",
                    "Reversal of Opioid Sedation",
                    "Pelvic Inflammatory Disease",
                    "Computed Tomography",
                    "Atrophic Urethritis",
                    "Anal Itching",
                    "Skin Cance",
                    "Spondyloarthritis",
                    "Bone infection",
                    "Sarcoidosis",
                    "Hypotension",
                    "Dystonia",
                    "Lyme Disease, Neurologic",
                    "llicle Stimulation",
                    "min / saxagliptin)",
                    "Occipital Neuralgia",
                    "11</span> users found this comment helpful.",
                    "Menopausal Disorders",
                    "Pe",
                    "Anemia, Sickle Cell",
                    "Auditory Processing Disorde",
                    "Primary Ovarian Failure",
                    "Ventricular Tachycardia",
                    "Lactation Augmentation",
                    "Gastrointestinal Decontamination",
                    "Mycobacterium avium-intracellulare, Treatment",
                    "Mountain Sickness / Altitude Sickness",
                    "Gastrointestinal Stromal Tum",
                    "Skin Disinfection, Preoperative",
                    "Oral Thrush",
                    "Bullous Pemphigoid",
                    "eve",
                    "Diarrhea, Acute",
                    "Osteolytic Bone Lesions of Multiple Myeloma",
                    "Thyroid Cance",
                    "Lipodystrophy",
                    "Macular Edema",
                    "Intermittent Claudication",
                    "Bacterial Endocarditis Prevention",
                    "Deep Vein Thrombosis Prophylaxis after Hip Replacement Surgery",
                    "Endometrial Cance",
                    "Mild Cognitive Impairment",
                    "Bursitis",
                    "Hidradenitis Suppurativa",
                    "NSAID-Induced Gastric Ulce",
                    "Hyperthyroidism",
                    "Lymphoma",
                    "Gastric Ulcer Maintenance Treatment",
                    "Local Anesthesia",
                    "Eyelash Hypotrichosis",
                    "Amebiasis",
                    "Insomnia, Stimulant-Associated",
                    "Perioral Dermatitis",
                    "mulation) (phenylephrine)",
                    "Adrenocortical Insufficiency",
                    "Seasonal Affective Disorde",
                    "Aphthous Ulce",
                    "Skin Rash",
                    "21</span> users found this comment helpful.",
                    "23</span> users found this comment helpful.",
                    "Gastritis/Duodenitis",
                    "Iritis",
                    "Rhinorrhea",
                    "Ophthalmic Surgery",
                    "Peritonitis",
                    "Women (oxybutynin)",
                    "Endometrial Hyperplasia",
                    "Tuberculosis, Latent",
                    "Persistent Depressive Disorde",
                    "Impetig",
                    "Lichen Planus",
                    "Hypomagnesemia",
                    "Prevention of Cardiovascular Disease",
                    "Melanoma, Metastatic",
                    "Ulcerative Proctitis",
                    "lic Acid Deficiency",
                    "Dietary Fiber Supplementation",
                    "Multiple Myeloma",
                    "Ear Wax Impaction",
                    "Oophorectomy",
                    "Deep Neck Infection",
                    "Secondary Hyperparathyroidism",
                    "von Willebrand's Disease",
                    "Diabetic Macular Edema",
                    "Aplastic Anemia",
                    "High Cholesterol, Familial Homozygous",
                    "Osteolytic Bone Metastases of Solid Tumors",
                    "Primary Nocturnal Enuresis",
                    "Percutaneous Coronary Intervention",
                    "Progesterone Insufficiency",
                    "Hypocalcemia",
                    "Dercum's Disease",
                    "Hyperekplexia",
                    "Dumping Syndrome",
                    "Gonococcal Infection, Uncomplicated",
                    "Glioblastoma Multiforme",
                    "33</span> users found this comment helpful.",
                    "Lactose Intolerance",
                    "Schnitzler Syndrome",
                    "Hypercalcemia of Malignancy",
                    "Periodontitis",
                    "Cance",
                    "New Daily Persistent Headache",
                    "Bleeding Disorde",
                    "Renal Tubular Acidosis",
                    "Submental Fullness",
                    "Breast Cancer, Palliative",
                    "Mantle Cell Lymphoma",
                    "Ischemic Stroke",
                    "Systemic Mastocytosis",
                    "Prevention of Dental Caries",
                    "Chronic Myofascial Pain",
                    "Lymphocytic Colitis",
                    "Oligospermia",
                    "Streptococcal Infection",
                    "51</span> users found this comment helpful.",
                    "Hyperlipoproteinemia",
                    "Occupational Exposure",
                    "Corneal Refractive Surgery",
                    "Expectoration",
                    "Opiate Adjunct",
                    "27</span> users found this comment helpful.",
                    "Liver Magnetic Resonance Imaging",
                    "Post-Cholecystectomy Diarrhea",
                    "16</span> users found this comment helpful.",
                    "Intraabdominal Infection",
                    "Traveler's Diarrhea",
                    "Bacteremia",
                    "Pupillary Dilation",
                    "Abortion",
                    "Gallbladder Disease",
                    "Thromboembolic Stroke Prophylaxis",
                    "Polymyositis/Dermatomyositis",
                    "Alpha-1 Proteinase Inhibitor Deficiency",
                    "25</span> users found this comment helpful.",
                    "Still's Disease",
                    "Warts",
                    "Gastrointestinal Hemorrhage",
                    "Pharyngitis",
                    "Cerebral Spasticity",
                    "Thrombocythemia",
                    "Acute Lymphoblastic Leukemia",
                    "Trichotillomania",
                    "Performance Anxiety",
                    "55</span> users found this comment helpful.",
                    "28</span> users found this comment helpful.",
                    "Behcet's Disease",
                    "Acute Otitis Externa",
                    "AIDS Related Wasting",
                    "Systemic Sclerosis",
                    "Lichen Sclerosus",
                    "Platelet Aggregation Inhibition",
                    "22</span> users found this comment helpful.",
                    "Addison's Disease",
                    "Colorectal Cance",
                    "Dandruff",
                    "Paget's Disease",
                    "Deep Vein Thrombosis, First Event",
                    "34</span> users found this comment helpful.",
                    "Antiphospholipid Syndrome",
                    "Neck Pain",
                    "ICU Agitation",
                    "20</span> users found this comment helpful.",
                    "Hypoparathyroidism",
                    "Varicella-Zoste",
                    "m Pain Disorde",
                    "Ventricular Fibrillation",
                    "Chronic Spasticity",
                    "Costochondritis",
                    "Pulmonary Embolism, First Event",
                    "Premature Ventricular Depolarizations",
                    "Mycoplasma Pneumonia",
                    "Salmonella Gastroenteritis",
                    "Hepatocellular Carcinoma",
                    "32</span> users found this comment helpful.",
                    "Scabies",
                    "Cataplexy",
                    "Deep Vein Thrombosis, Recurrent Event",
                    "Uterine Bleeding",
                    "Ovarian Cance",
                    "ibrocystic Breast Disease",
                    "Squamous Cell Carcinoma",
                    "Gonadotropin Inhibition",
                    "Topical Disinfection",
                    "Blepharitis",
                    "Acute Promyelocytic Leukemia",
                    "Herpes Simplex Dendritic Keratitis",
                    "Lyme Disease, Erythema Chronicum Migrans",
                    "Ehrlichiosis",
                    "acial Lipoatrophy",
                    "Yellow Fever Prophylaxis",
                    "Herpes Simplex, Mucocutaneous/Immunocompromised Host",
                    "105</span> users found this comment helpful.",
                    "35</span> users found this comment helpful.",
                    "Head and Neck Cance",
                    "mist (",
                    "Pertussis Prophylaxis",
                    "Thyrotoxicosis",
                    "Pain/Feve",
                    "38</span> users found this comment helpful.",
                    "Hemophilia B",
                    "Myelofibrosis",
                    "Hyperphosphatemia",
                    "135</span> users found this comment helpful.",
                    "Sore Throat",
                    "Pityriasis rubra pilaris",
                    "Ventricular Arrhythmia",
                    "Somat",
                    "Pemphigus",
                    "Nephrotic Syndrome",
                    "Cutaneous T-cell Lymphoma",
                    "Mixed Connective Tissue Disease",
                    "Transient Ischemic Attack",
                    "Pancreatic Cance",
                    "Enterocolitis",
                    "Hemorrhoids (pramoxine / zinc oxide)",
                    "Hypoactive Sexual Desire Disorde",
                    "Autoimmune Hemolytic Anemia",
                    "29</span> users found this comment helpful.",
                    "Ichthyosis",
                    "actor IX Deficiency",
                    "Body Dysmorphic Disorde",
                    "Dissociative Identity Disorde",
                    "Coronary Artery Disease",
                    "37</span> users found this comment helpful.",
                    "Subarachnoid Hemorrhage",
                    "Stress Ulcer Prophylaxis",
                    "Nasal Carriage of Staphylococcus aureus",
                    "Aspergillosis, Aspergilloma",
                    "Pre-Exposure Prophylaxis",
                    "Cyclitis",
                    "Oral and Dental Conditions",
                    "Radionuclide Myocardial Perfusion Study",
                    "Polycythemia Vera",
                    "Myotonia Congenita",
                    "Coccidioidomycosis",
                    "Zollinger-Ellison Syndrome",
                    "Spondylolisthesis",
                    "Hypokalemic Periodic Paralysis",
                    "Jet Lag",
                    "Steroid Responsive Inflammatory Conditions",
                    "Small Bowel or Pancreatic Fistula",
                    "Pudendal Neuralgia",
                    "41</span> users found this comment helpful.",
                    "Status Epilepticus",
                    "Joint Infection",
                    "Stomach Cance",
                    "Cachexia",
                    "Schilling Test",
                    "Nausea (phosphorated carbohydrate solution)",
                    "Histoplasmosis",
                    "Neutropenia",
                    "B12 Nutritional Deficiency",
                    "Strabismus",
                    "Organ Transplant, Rejection Reversal",
                    "Glioblastoma Multi",
                    "cal Segmental Glomerulosclerosis",
                    "Esophageal Variceal Hemorrhage Prophylaxis",
                    "Hypodermoclysis",
                    "Anemia, Chemotherapy Induced",
                    "Peripheral Arterial Disease",
                    "Chronic Inflammatory Demyelinating Polyradiculoneuropathy",
                    "Prevention of Hypokalemia",
                    "Wegener's Granulomatosis",
                    "Strongyloidiasis",
                    "Epididymitis, Sexually Transmitted",
                    "Acute Nonlymphocytic Leukemia",
                    "Anaplastic Astrocytoma",
                    "Premature Ejaculation",
                    "Uveitis, Posteri",
                    "Melanoma",
                    "31</span> users found this comment helpful.",
                    "Hypertensive Emergency",
                    "24</span> users found this comment helpful.",
                    "Leukemia",
                    "Rat-bite Feve",
                    "CMV Prophylaxis",
                    "Anthrax",
                    "Dermatomyositis",
                    "Cyclothymic Disorde",
                    "Postoperative Increased Intraocular Pressure",
                    "Upper Limb Spasticity",
                    "Tympanostomy Tube Placement Surgery",
                    "Meningococcal Meningitis Prophylaxis",
                    "83</span> users found this comment helpful.",
                    "Dupuytren's contracture",
                    "Mononucleosis",
                    "Immunosuppression",
                    "Keratitis",
                    "Gender Dysphoria",
                    "Pertussis",
                    "Herpes Zoster, Prophylaxis",
                    "me",
                    "Syringomyelia",
                    "Giant Cell Tumor of Bone",
                    "Dementia",
                    "Acetaminophen Overdose",
                    "70</span> users found this comment helpful.",
                    "Myeloproliferative Disorders",
                    "Pulmonary Edema",
                    "Sunburn",
                    "Head Injury",
                    "Urinary Retention",
                    "Wolff-Parkinson-White Syndrome",
                    "Adult Human Growth Hormone Deficiency",
                    "Pemphigoid",
                    "amilial Cold Autoinflammatory Syndrome",
                    "Hyperkalemia",
                    "100</span> users found this comment helpful.",
                    "Cerebral Edema",
                    "Nonoccupational Exposure",
                    "Reversal of Nondepolarizing Muscle Relaxants",
                    "Parkinsonism",
                    "tic (mycophenolic acid)",
                    "Oppositional Defiant Disorde",
                    "Primary Hyperaldosteronism",
                    "Eosinophilic Esophagitis",
                    "Hemophilia A",
                    "Dermatophytosis"
                  ],
                  "yaxis": "y"
                }
              ],
              "layout": {
                "barmode": "relative",
                "height": 400,
                "legend": {
                  "tracegroupgap": 0
                },
                "template": {
                  "data": {
                    "bar": [
                      {
                        "error_x": {
                          "color": "#2a3f5f"
                        },
                        "error_y": {
                          "color": "#2a3f5f"
                        },
                        "marker": {
                          "line": {
                            "color": "#E5ECF6",
                            "width": 0.5
                          },
                          "pattern": {
                            "fillmode": "overlay",
                            "size": 10,
                            "solidity": 0.2
                          }
                        },
                        "type": "bar"
                      }
                    ],
                    "barpolar": [
                      {
                        "marker": {
                          "line": {
                            "color": "#E5ECF6",
                            "width": 0.5
                          },
                          "pattern": {
                            "fillmode": "overlay",
                            "size": 10,
                            "solidity": 0.2
                          }
                        },
                        "type": "barpolar"
                      }
                    ],
                    "carpet": [
                      {
                        "aaxis": {
                          "endlinecolor": "#2a3f5f",
                          "gridcolor": "white",
                          "linecolor": "white",
                          "minorgridcolor": "white",
                          "startlinecolor": "#2a3f5f"
                        },
                        "baxis": {
                          "endlinecolor": "#2a3f5f",
                          "gridcolor": "white",
                          "linecolor": "white",
                          "minorgridcolor": "white",
                          "startlinecolor": "#2a3f5f"
                        },
                        "type": "carpet"
                      }
                    ],
                    "choropleth": [
                      {
                        "colorbar": {
                          "outlinewidth": 0,
                          "ticks": ""
                        },
                        "type": "choropleth"
                      }
                    ],
                    "contour": [
                      {
                        "colorbar": {
                          "outlinewidth": 0,
                          "ticks": ""
                        },
                        "colorscale": [
                          [
                            0,
                            "#0d0887"
                          ],
                          [
                            0.1111111111111111,
                            "#46039f"
                          ],
                          [
                            0.2222222222222222,
                            "#7201a8"
                          ],
                          [
                            0.3333333333333333,
                            "#9c179e"
                          ],
                          [
                            0.4444444444444444,
                            "#bd3786"
                          ],
                          [
                            0.5555555555555556,
                            "#d8576b"
                          ],
                          [
                            0.6666666666666666,
                            "#ed7953"
                          ],
                          [
                            0.7777777777777778,
                            "#fb9f3a"
                          ],
                          [
                            0.8888888888888888,
                            "#fdca26"
                          ],
                          [
                            1,
                            "#f0f921"
                          ]
                        ],
                        "type": "contour"
                      }
                    ],
                    "contourcarpet": [
                      {
                        "colorbar": {
                          "outlinewidth": 0,
                          "ticks": ""
                        },
                        "type": "contourcarpet"
                      }
                    ],
                    "heatmap": [
                      {
                        "colorbar": {
                          "outlinewidth": 0,
                          "ticks": ""
                        },
                        "colorscale": [
                          [
                            0,
                            "#0d0887"
                          ],
                          [
                            0.1111111111111111,
                            "#46039f"
                          ],
                          [
                            0.2222222222222222,
                            "#7201a8"
                          ],
                          [
                            0.3333333333333333,
                            "#9c179e"
                          ],
                          [
                            0.4444444444444444,
                            "#bd3786"
                          ],
                          [
                            0.5555555555555556,
                            "#d8576b"
                          ],
                          [
                            0.6666666666666666,
                            "#ed7953"
                          ],
                          [
                            0.7777777777777778,
                            "#fb9f3a"
                          ],
                          [
                            0.8888888888888888,
                            "#fdca26"
                          ],
                          [
                            1,
                            "#f0f921"
                          ]
                        ],
                        "type": "heatmap"
                      }
                    ],
                    "histogram": [
                      {
                        "marker": {
                          "pattern": {
                            "fillmode": "overlay",
                            "size": 10,
                            "solidity": 0.2
                          }
                        },
                        "type": "histogram"
                      }
                    ],
                    "histogram2d": [
                      {
                        "colorbar": {
                          "outlinewidth": 0,
                          "ticks": ""
                        },
                        "colorscale": [
                          [
                            0,
                            "#0d0887"
                          ],
                          [
                            0.1111111111111111,
                            "#46039f"
                          ],
                          [
                            0.2222222222222222,
                            "#7201a8"
                          ],
                          [
                            0.3333333333333333,
                            "#9c179e"
                          ],
                          [
                            0.4444444444444444,
                            "#bd3786"
                          ],
                          [
                            0.5555555555555556,
                            "#d8576b"
                          ],
                          [
                            0.6666666666666666,
                            "#ed7953"
                          ],
                          [
                            0.7777777777777778,
                            "#fb9f3a"
                          ],
                          [
                            0.8888888888888888,
                            "#fdca26"
                          ],
                          [
                            1,
                            "#f0f921"
                          ]
                        ],
                        "type": "histogram2d"
                      }
                    ],
                    "histogram2dcontour": [
                      {
                        "colorbar": {
                          "outlinewidth": 0,
                          "ticks": ""
                        },
                        "colorscale": [
                          [
                            0,
                            "#0d0887"
                          ],
                          [
                            0.1111111111111111,
                            "#46039f"
                          ],
                          [
                            0.2222222222222222,
                            "#7201a8"
                          ],
                          [
                            0.3333333333333333,
                            "#9c179e"
                          ],
                          [
                            0.4444444444444444,
                            "#bd3786"
                          ],
                          [
                            0.5555555555555556,
                            "#d8576b"
                          ],
                          [
                            0.6666666666666666,
                            "#ed7953"
                          ],
                          [
                            0.7777777777777778,
                            "#fb9f3a"
                          ],
                          [
                            0.8888888888888888,
                            "#fdca26"
                          ],
                          [
                            1,
                            "#f0f921"
                          ]
                        ],
                        "type": "histogram2dcontour"
                      }
                    ],
                    "mesh3d": [
                      {
                        "colorbar": {
                          "outlinewidth": 0,
                          "ticks": ""
                        },
                        "type": "mesh3d"
                      }
                    ],
                    "parcoords": [
                      {
                        "line": {
                          "colorbar": {
                            "outlinewidth": 0,
                            "ticks": ""
                          }
                        },
                        "type": "parcoords"
                      }
                    ],
                    "pie": [
                      {
                        "automargin": true,
                        "type": "pie"
                      }
                    ],
                    "scatter": [
                      {
                        "fillpattern": {
                          "fillmode": "overlay",
                          "size": 10,
                          "solidity": 0.2
                        },
                        "type": "scatter"
                      }
                    ],
                    "scatter3d": [
                      {
                        "line": {
                          "colorbar": {
                            "outlinewidth": 0,
                            "ticks": ""
                          }
                        },
                        "marker": {
                          "colorbar": {
                            "outlinewidth": 0,
                            "ticks": ""
                          }
                        },
                        "type": "scatter3d"
                      }
                    ],
                    "scattercarpet": [
                      {
                        "marker": {
                          "colorbar": {
                            "outlinewidth": 0,
                            "ticks": ""
                          }
                        },
                        "type": "scattercarpet"
                      }
                    ],
                    "scattergeo": [
                      {
                        "marker": {
                          "colorbar": {
                            "outlinewidth": 0,
                            "ticks": ""
                          }
                        },
                        "type": "scattergeo"
                      }
                    ],
                    "scattergl": [
                      {
                        "marker": {
                          "colorbar": {
                            "outlinewidth": 0,
                            "ticks": ""
                          }
                        },
                        "type": "scattergl"
                      }
                    ],
                    "scattermap": [
                      {
                        "marker": {
                          "colorbar": {
                            "outlinewidth": 0,
                            "ticks": ""
                          }
                        },
                        "type": "scattermap"
                      }
                    ],
                    "scattermapbox": [
                      {
                        "marker": {
                          "colorbar": {
                            "outlinewidth": 0,
                            "ticks": ""
                          }
                        },
                        "type": "scattermapbox"
                      }
                    ],
                    "scatterpolar": [
                      {
                        "marker": {
                          "colorbar": {
                            "outlinewidth": 0,
                            "ticks": ""
                          }
                        },
                        "type": "scatterpolar"
                      }
                    ],
                    "scatterpolargl": [
                      {
                        "marker": {
                          "colorbar": {
                            "outlinewidth": 0,
                            "ticks": ""
                          }
                        },
                        "type": "scatterpolargl"
                      }
                    ],
                    "scatterternary": [
                      {
                        "marker": {
                          "colorbar": {
                            "outlinewidth": 0,
                            "ticks": ""
                          }
                        },
                        "type": "scatterternary"
                      }
                    ],
                    "surface": [
                      {
                        "colorbar": {
                          "outlinewidth": 0,
                          "ticks": ""
                        },
                        "colorscale": [
                          [
                            0,
                            "#0d0887"
                          ],
                          [
                            0.1111111111111111,
                            "#46039f"
                          ],
                          [
                            0.2222222222222222,
                            "#7201a8"
                          ],
                          [
                            0.3333333333333333,
                            "#9c179e"
                          ],
                          [
                            0.4444444444444444,
                            "#bd3786"
                          ],
                          [
                            0.5555555555555556,
                            "#d8576b"
                          ],
                          [
                            0.6666666666666666,
                            "#ed7953"
                          ],
                          [
                            0.7777777777777778,
                            "#fb9f3a"
                          ],
                          [
                            0.8888888888888888,
                            "#fdca26"
                          ],
                          [
                            1,
                            "#f0f921"
                          ]
                        ],
                        "type": "surface"
                      }
                    ],
                    "table": [
                      {
                        "cells": {
                          "fill": {
                            "color": "#EBF0F8"
                          },
                          "line": {
                            "color": "white"
                          }
                        },
                        "header": {
                          "fill": {
                            "color": "#C8D4E3"
                          },
                          "line": {
                            "color": "white"
                          }
                        },
                        "type": "table"
                      }
                    ]
                  },
                  "layout": {
                    "annotationdefaults": {
                      "arrowcolor": "#2a3f5f",
                      "arrowhead": 0,
                      "arrowwidth": 1
                    },
                    "autotypenumbers": "strict",
                    "coloraxis": {
                      "colorbar": {
                        "outlinewidth": 0,
                        "ticks": ""
                      }
                    },
                    "colorscale": {
                      "diverging": [
                        [
                          0,
                          "#8e0152"
                        ],
                        [
                          0.1,
                          "#c51b7d"
                        ],
                        [
                          0.2,
                          "#de77ae"
                        ],
                        [
                          0.3,
                          "#f1b6da"
                        ],
                        [
                          0.4,
                          "#fde0ef"
                        ],
                        [
                          0.5,
                          "#f7f7f7"
                        ],
                        [
                          0.6,
                          "#e6f5d0"
                        ],
                        [
                          0.7,
                          "#b8e186"
                        ],
                        [
                          0.8,
                          "#7fbc41"
                        ],
                        [
                          0.9,
                          "#4d9221"
                        ],
                        [
                          1,
                          "#276419"
                        ]
                      ],
                      "sequential": [
                        [
                          0,
                          "#0d0887"
                        ],
                        [
                          0.1111111111111111,
                          "#46039f"
                        ],
                        [
                          0.2222222222222222,
                          "#7201a8"
                        ],
                        [
                          0.3333333333333333,
                          "#9c179e"
                        ],
                        [
                          0.4444444444444444,
                          "#bd3786"
                        ],
                        [
                          0.5555555555555556,
                          "#d8576b"
                        ],
                        [
                          0.6666666666666666,
                          "#ed7953"
                        ],
                        [
                          0.7777777777777778,
                          "#fb9f3a"
                        ],
                        [
                          0.8888888888888888,
                          "#fdca26"
                        ],
                        [
                          1,
                          "#f0f921"
                        ]
                      ],
                      "sequentialminus": [
                        [
                          0,
                          "#0d0887"
                        ],
                        [
                          0.1111111111111111,
                          "#46039f"
                        ],
                        [
                          0.2222222222222222,
                          "#7201a8"
                        ],
                        [
                          0.3333333333333333,
                          "#9c179e"
                        ],
                        [
                          0.4444444444444444,
                          "#bd3786"
                        ],
                        [
                          0.5555555555555556,
                          "#d8576b"
                        ],
                        [
                          0.6666666666666666,
                          "#ed7953"
                        ],
                        [
                          0.7777777777777778,
                          "#fb9f3a"
                        ],
                        [
                          0.8888888888888888,
                          "#fdca26"
                        ],
                        [
                          1,
                          "#f0f921"
                        ]
                      ]
                    },
                    "colorway": [
                      "#636efa",
                      "#EF553B",
                      "#00cc96",
                      "#ab63fa",
                      "#FFA15A",
                      "#19d3f3",
                      "#FF6692",
                      "#B6E880",
                      "#FF97FF",
                      "#FECB52"
                    ],
                    "font": {
                      "color": "#2a3f5f"
                    },
                    "geo": {
                      "bgcolor": "white",
                      "lakecolor": "white",
                      "landcolor": "#E5ECF6",
                      "showlakes": true,
                      "showland": true,
                      "subunitcolor": "white"
                    },
                    "hoverlabel": {
                      "align": "left"
                    },
                    "hovermode": "closest",
                    "mapbox": {
                      "style": "light"
                    },
                    "paper_bgcolor": "white",
                    "plot_bgcolor": "#E5ECF6",
                    "polar": {
                      "angularaxis": {
                        "gridcolor": "white",
                        "linecolor": "white",
                        "ticks": ""
                      },
                      "bgcolor": "#E5ECF6",
                      "radialaxis": {
                        "gridcolor": "white",
                        "linecolor": "white",
                        "ticks": ""
                      }
                    },
                    "scene": {
                      "xaxis": {
                        "backgroundcolor": "#E5ECF6",
                        "gridcolor": "white",
                        "gridwidth": 2,
                        "linecolor": "white",
                        "showbackground": true,
                        "ticks": "",
                        "zerolinecolor": "white"
                      },
                      "yaxis": {
                        "backgroundcolor": "#E5ECF6",
                        "gridcolor": "white",
                        "gridwidth": 2,
                        "linecolor": "white",
                        "showbackground": true,
                        "ticks": "",
                        "zerolinecolor": "white"
                      },
                      "zaxis": {
                        "backgroundcolor": "#E5ECF6",
                        "gridcolor": "white",
                        "gridwidth": 2,
                        "linecolor": "white",
                        "showbackground": true,
                        "ticks": "",
                        "zerolinecolor": "white"
                      }
                    },
                    "shapedefaults": {
                      "line": {
                        "color": "#2a3f5f"
                      }
                    },
                    "ternary": {
                      "aaxis": {
                        "gridcolor": "white",
                        "linecolor": "white",
                        "ticks": ""
                      },
                      "baxis": {
                        "gridcolor": "white",
                        "linecolor": "white",
                        "ticks": ""
                      },
                      "bgcolor": "#E5ECF6",
                      "caxis": {
                        "gridcolor": "white",
                        "linecolor": "white",
                        "ticks": ""
                      }
                    },
                    "title": {
                      "x": 0.05
                    },
                    "xaxis": {
                      "automargin": true,
                      "gridcolor": "white",
                      "linecolor": "white",
                      "ticks": "",
                      "title": {
                        "standoff": 15
                      },
                      "zerolinecolor": "white",
                      "zerolinewidth": 2
                    },
                    "yaxis": {
                      "automargin": true,
                      "gridcolor": "white",
                      "linecolor": "white",
                      "ticks": "",
                      "title": {
                        "standoff": 15
                      },
                      "zerolinecolor": "white",
                      "zerolinewidth": 2
                    }
                  }
                },
                "title": {
                  "text": "xc"
                },
                "xaxis": {
                  "anchor": "y",
                  "domain": [
                    0,
                    1
                  ],
                  "title": {
                    "text": "index"
                  }
                },
                "yaxis": {
                  "anchor": "x",
                  "domain": [
                    0,
                    1
                  ],
                  "title": {
                    "text": "condition"
                  }
                }
              }
            }
          },
          "metadata": {},
          "output_type": "display_data"
        }
      ],
      "source": [
        "def plot_bar_chart(df):\n",
        "    # analyze the condition labels\n",
        "    counts_series = df.condition.value_counts()\n",
        "    counts_df = pd.DataFrame(counts_series)\n",
        "    counts_df.reset_index(level=0, inplace=True)\n",
        "\n",
        "    number_of_classes(df)\n",
        "\n",
        "    fig = px.bar(counts_df, x=\"index\", y=\"condition\", orientation='v',  # \"index\" Debugging-Aufgabe!\n",
        "              height=400,\n",
        "              title='xc')\n",
        "    fig.show()\n",
        "\n",
        "def number_of_classes(df):\n",
        "    print(\"Number of classes: \", len(df[\"condition\"].unique()))\n",
        "\n",
        "plot_bar_chart(df_train)"
      ]
    },
    {
      "cell_type": "code",
      "execution_count": 11,
      "metadata": {
        "colab": {
          "base_uri": "https://localhost:8080/",
          "height": 35
        },
        "colab_type": "code",
        "id": "LFBRS092lWcP",
        "outputId": "d2733b6e-f9a3-4a6c-f14b-954fb34eb07c"
      },
      "outputs": [
        {
          "name": "stdout",
          "output_type": "stream",
          "text": [
            "Number of classes:  214\n"
          ]
        }
      ],
      "source": [
        "# Keeping classes which have more than 20 values in them\n",
        "index_counts = df_train[\"condition\"].value_counts()[df_train.condition.value_counts() >= 20].index\n",
        "df_train = df_train[df_train[\"condition\"].isin(index_counts)]\n",
        "number_of_classes(df_train)"
      ]
    },
    {
      "cell_type": "markdown",
      "metadata": {
        "colab_type": "text",
        "id": "E2gwievCl5nT"
      },
      "source": [
        "#### Balancing Classes\n",
        "Undersampling all classes with samples greater than 200 to 200"
      ]
    },
    {
      "cell_type": "code",
      "execution_count": 12,
      "metadata": {
        "colab": {},
        "colab_type": "code",
        "id": "wUjvztsVly18"
      },
      "outputs": [],
      "source": [
        "# undersampling all classes with samples greater than 200 to 200\n",
        "condition_over200 = df_train[\"condition\"].value_counts()[df_train.condition.value_counts() >= 200].index\n",
        "\n",
        "for condition in condition_over200:\n",
        "    # randomly shuffle the samples\n",
        "    condition_samples = df_train[df_train[\"condition\"]==condition]\n",
        "    condition_samples = condition_samples.sample(frac=1).reset_index(drop=True)\n",
        "\n",
        "    # extract only 200\n",
        "    condition_samples = condition_samples[:200]\n",
        "\n",
        "    df_train = df_train[df_train[\"condition\"]!=condition]\n",
        "    # put it back\n",
        "    df_train = pd.concat([df_train, condition_samples], ignore_index=True)"
      ]
    },
    {
      "cell_type": "markdown",
      "metadata": {
        "colab_type": "text",
        "id": "wbSY7qCkpNPK"
      },
      "source": [
        "### Filtering Labels and removing alpha numeric values.\n"
      ]
    },
    {
      "cell_type": "code",
      "execution_count": 13,
      "metadata": {
        "colab": {},
        "colab_type": "code",
        "id": "qAJqk5sFmCtw"
      },
      "outputs": [],
      "source": [
        "def filter_labels(labels):\n",
        "    labels = labels.tolist()\n",
        "    labels_truth = []\n",
        "    for label in labels:\n",
        "        if label[0].isdigit():\n",
        "            labels_truth.append(False)\n",
        "        else:\n",
        "            labels_truth.append(True)\n",
        "    return labels_truth"
      ]
    },
    {
      "cell_type": "code",
      "execution_count": 14,
      "metadata": {
        "colab": {
          "base_uri": "https://localhost:8080/",
          "height": 52
        },
        "colab_type": "code",
        "id": "RrUJ0BOtUWKg",
        "outputId": "eca28baf-4a87-48ee-cf88-2c358e9ca6fc"
      },
      "outputs": [
        {
          "name": "stdout",
          "output_type": "stream",
          "text": [
            "Number of classes:  210\n",
            "Train  None\n"
          ]
        }
      ],
      "source": [
        "df_train = df_train[filter_labels(df_train[\"condition\"])]\n",
        "print(\"Train \", number_of_classes(df_train))"
      ]
    },
    {
      "cell_type": "code",
      "execution_count": 15,
      "metadata": {
        "colab": {
          "base_uri": "https://localhost:8080/",
          "height": 52
        },
        "colab_type": "code",
        "id": "0s_SS3J4Ucjs",
        "outputId": "fcfff87a-5485-4770-c54c-ee7ab55792b9"
      },
      "outputs": [
        {
          "name": "stdout",
          "output_type": "stream",
          "text": [
            "Number of classes:  664\n",
            "Test  None\n"
          ]
        }
      ],
      "source": [
        "df_test = df_test[filter_labels(df_test[\"condition\"])]\n",
        "print(\"Test \", number_of_classes(df_test))"
      ]
    },
    {
      "cell_type": "markdown",
      "metadata": {
        "colab_type": "text",
        "id": "xTAOfUI-prTn"
      },
      "source": [
        "### Only keeping the classes that are in the training set, in to the test set"
      ]
    },
    {
      "cell_type": "code",
      "execution_count": 16,
      "metadata": {
        "colab": {
          "base_uri": "https://localhost:8080/",
          "height": 35
        },
        "colab_type": "code",
        "id": "wLQAL1FapVeL",
        "outputId": "14ec1126-7d66-413d-9425-6877f6b4e595"
      },
      "outputs": [
        {
          "name": "stdout",
          "output_type": "stream",
          "text": [
            "Number of classes:  210\n"
          ]
        }
      ],
      "source": [
        "df_test = df_test[df_test[\"condition\"].isin(df_train[\"condition\"])]\n",
        "number_of_classes(df_test)"
      ]
    },
    {
      "cell_type": "markdown",
      "metadata": {
        "colab_type": "text",
        "id": "Hr9FbFbMUmvY"
      },
      "source": [
        "### Revised Class Distribution"
      ]
    },
    {
      "cell_type": "code",
      "execution_count": 17,
      "metadata": {
        "colab": {
          "base_uri": "https://localhost:8080/",
          "height": 435
        },
        "colab_type": "code",
        "id": "9Go7nhZaUlHd",
        "outputId": "785df3a2-15f0-4bda-b400-c77ae2167f03"
      },
      "outputs": [
        {
          "name": "stdout",
          "output_type": "stream",
          "text": [
            "Number of classes:  210\n"
          ]
        },
        {
          "data": {
            "application/vnd.plotly.v1+json": {
              "config": {
                "plotlyServerURL": "https://plot.ly"
              },
              "data": [
                {
                  "hovertemplate": "index=%{x}<br>condition=%{y}<extra></extra>",
                  "legendgroup": "",
                  "marker": {
                    "color": "#636efa",
                    "pattern": {
                      "shape": ""
                    }
                  },
                  "name": "",
                  "orientation": "v",
                  "showlegend": false,
                  "textposition": "auto",
                  "type": "bar",
                  "x": {
                    "bdata": "AAABAAIAAwAEAAUABgAHAAgACQAKAAsADAANAA4ADwAQABEAEgATABQAFQAWABcAGAAZABoAGwAcAB0AHgAfACAAIQAiACMAJAAlACYAJwAoACkAKgArACwALQAuAC8AMAAxADIAMwA0ADUANgA3ADgAOQA6ADsAPAA9AD4APwBAAEEAQgBDAEQARQBGAEcASABJAEoASwBMAE0ATgBPAFAAUQBSAFMAVABVAFYAVwBYAFkAWgBbAFwAXQBeAF8AYABhAGIAYwBkAGUAZgBnAGgAaQBqAGsAbABtAG4AbwBwAHEAcgBzAHQAdQB2AHcAeAB5AHoAewB8AH0AfgB/AIAAgQCCAIMAhACFAIYAhwCIAIkAigCLAIwAjQCOAI8AkACRAJIAkwCUAJUAlgCXAJgAmQCaAJsAnACdAJ4AnwCgAKEAogCjAKQApQCmAKcAqACpAKoAqwCsAK0ArgCvALAAsQCyALMAtAC1ALYAtwC4ALkAugC7ALwAvQC+AL8AwADBAMIAwwDEAMUAxgDHAMgAyQDKAMsAzADNAM4AzwDQANEA",
                    "dtype": "i2"
                  },
                  "xaxis": "x",
                  "y": [
                    "Allergic Rhinitis",
                    "Generalized Anxiety Disorde",
                    "Erectile Dysfunction",
                    "Osteoarthritis",
                    "Muscle Spasm",
                    "Opiate Dependence",
                    "Urinary Tract Infection",
                    "Migraine Prevention",
                    "Panic Disorde",
                    "Chronic Pain",
                    "Major Depressive Disorde",
                    "Constipation",
                    "Anxiety and Stress",
                    "ibromyalgia",
                    "Migraine",
                    "Bowel Preparation",
                    "Abnormal Uterine Bleeding",
                    "Smoking Cessation",
                    "GERD",
                    "Hepatitis C",
                    "Irritable Bowel Syndrome",
                    "Rheumatoid Arthritis",
                    "Bacterial Infection",
                    "Cough",
                    "Sinusitis",
                    "Nausea/Vomiting",
                    "Overactive Bladde",
                    "Multiple Sclerosis",
                    "Restless Legs Syndrome",
                    "Hyperhidrosis",
                    "High Cholesterol",
                    "HIV Infection",
                    "Vaginal Yeast Infection",
                    "Emergency Contraception",
                    "Pain",
                    "Anxiety",
                    "Weight Loss",
                    "Insomnia",
                    "ADHD",
                    "Obesity",
                    "High Blood Pressure",
                    "Diabetes, Type 2",
                    "Birth Control",
                    "Depression",
                    "Bipolar Disorde",
                    "Acne",
                    "Psoriasis",
                    "Schizophrenia",
                    "Hypogonadism, Male",
                    "Back Pain",
                    "Endometriosis",
                    "Constipation, Chronic",
                    "Seizures",
                    "Rosacea",
                    "Obsessive Compulsive Disorde",
                    "Benign Prostatic Hyperplasia",
                    "Asthma, Maintenance",
                    "Bronchitis",
                    "Headache",
                    "Not Listed / Othe",
                    "Bacterial Vaginitis",
                    "Narcolepsy",
                    "Onychomycosis, Toenail",
                    "Postmenopausal Symptoms",
                    "Social Anxiety Disorde",
                    "Bladder Infection",
                    "Alcohol Dependence",
                    "Herpes Simplex",
                    "Schizoaffective Disorde",
                    "Menstrual Disorders",
                    "Epilepsy",
                    "Underactive Thyroid",
                    "Post Traumatic Stress Disorde",
                    "Influenza",
                    "Cough and Nasal Congestion",
                    "Psoriatic Arthritis",
                    "Opiate Withdrawal",
                    "Cold Sores",
                    "Inflammatory Conditions",
                    "Nasal Congestion",
                    "Breast Cance",
                    "Plaque Psoriasis",
                    "Premenstrual Dysphoric Disorde",
                    "Chlamydia Infection",
                    "Neuropathic Pain",
                    "Pneumonia",
                    "Osteoporosis",
                    "Anesthesia",
                    "Urticaria",
                    "Polycystic Ovary Syndrome",
                    "COPD, Maintenance",
                    "Constipation, Drug Induced",
                    "Helicobacter Pylori Infection",
                    "Asthma",
                    "Ulcerative Colitis",
                    "Atrial Fibrillation",
                    "Crohn's Disease, Maintenance",
                    "Motion Sickness",
                    "mance Anxiety",
                    "Seizure Prevention",
                    "Hashimoto's disease",
                    "Diarrhea",
                    "Alcohol Withdrawal",
                    "Hot Flashes",
                    "Urinary Incontinence",
                    "Upper Respiratory Tract Infection",
                    "Sedation",
                    "Ankylosing Spondylitis",
                    "Peripheral Neuropathy",
                    "Skin or Soft Tissue Infection",
                    "Gout, Acute",
                    "Ovarian Cysts",
                    "Otitis Media",
                    "Diabetic Peripheral Neuropathy",
                    "Dry Eye Disease",
                    "Atopic Dermatitis",
                    "Atrophic Vaginitis",
                    "Crohn's Disease",
                    "Eczema",
                    "Trigeminal Neuralgia",
                    "Borderline Personality Disorde",
                    "Parkinson's Disease",
                    "Strep Throat",
                    "Allergies",
                    "Hirsutism",
                    "Period Pain",
                    "Prostate Cance",
                    "Cluster Headaches",
                    "COPD",
                    "Keratosis",
                    "Diabetes, Type 1",
                    "Bacterial Skin Infection",
                    "Interstitial Cystitis",
                    "Prevention of Thromboembolism in Atrial Fibrillation",
                    "Herpes Simplex, Suppression",
                    "Diverticulitis",
                    "Postherpetic Neuralgia",
                    "Urinary Tract Stones",
                    "Ulcerative Colitis, Active",
                    "Arrhythmia",
                    "Edema",
                    "Sciatica",
                    "Non-Small Cell Lung Cance",
                    "Human Papilloma Virus",
                    "Nausea/Vomiting of Pregnancy",
                    "Systemic Lupus Erythematosus",
                    "Obstructive Sleep Apnea/Hypopnea Syndrome",
                    "Hypothyroidism, After Thyroid Removal",
                    "Premature Lab",
                    "Alopecia",
                    "Cold Symptoms",
                    "Dermatitis",
                    "Supraventricular Tachycardia",
                    "moterol)",
                    "Asthma, acute",
                    "Alzheimer's Disease",
                    "Kidney Infections",
                    "Head Lice",
                    "Muscle Pain",
                    "Autism",
                    "Anorexia",
                    "Neuralgia",
                    "Rhinitis",
                    "Hemorrhoids",
                    "Allergic Reactions",
                    "Renal Cell Carcinoma",
                    "Angina",
                    "Postpartum Depression",
                    "Binge Eating Disorde",
                    "Sexual Dysfunction, SSRI Induced",
                    "Dysuria",
                    "Benign Essential Trem",
                    "Chronic Fatigue Syndrome",
                    "Melasma",
                    "Pseudotumor Cerebri",
                    "Heart Failure",
                    "Keratoconjunctivitis Sicca",
                    "Pulmonary Hypertension",
                    "Breast Cancer, Metastatic",
                    "Hypertriglyceridemia",
                    "Gout",
                    "Amenorrhea",
                    "Chronic Myelogenous Leukemia",
                    "Hypersomnia",
                    "Psychosis",
                    "Vitamin/Mineral Supplementation during Pregnancy/Lactation",
                    "Diarrhea, Chronic",
                    "Prostatitis",
                    "Deep Vein Thrombosis",
                    "Shift Work Sleep Disorde",
                    "Light Sedation",
                    "Tonsillitis/Pharyngitis",
                    "Vertig",
                    "Dental Abscess",
                    "Dietary Supplementation",
                    "emale Infertility",
                    "Dry Skin",
                    "Chronic Idiopathic Constipation",
                    "Conjunctivitis, Allergic",
                    "atigue",
                    "Stomach Ulce",
                    "Tourette's Syndrome",
                    "Seasonal Allergic Conjunctivitis",
                    "Sinus Symptoms",
                    "Tendonitis",
                    "Cervical Dystonia",
                    "Indigestion",
                    "Erosive Esophagitis",
                    "Pulmonary Embolism",
                    "Mania"
                  ],
                  "yaxis": "y"
                }
              ],
              "layout": {
                "barmode": "relative",
                "height": 400,
                "legend": {
                  "tracegroupgap": 0
                },
                "template": {
                  "data": {
                    "bar": [
                      {
                        "error_x": {
                          "color": "#2a3f5f"
                        },
                        "error_y": {
                          "color": "#2a3f5f"
                        },
                        "marker": {
                          "line": {
                            "color": "#E5ECF6",
                            "width": 0.5
                          },
                          "pattern": {
                            "fillmode": "overlay",
                            "size": 10,
                            "solidity": 0.2
                          }
                        },
                        "type": "bar"
                      }
                    ],
                    "barpolar": [
                      {
                        "marker": {
                          "line": {
                            "color": "#E5ECF6",
                            "width": 0.5
                          },
                          "pattern": {
                            "fillmode": "overlay",
                            "size": 10,
                            "solidity": 0.2
                          }
                        },
                        "type": "barpolar"
                      }
                    ],
                    "carpet": [
                      {
                        "aaxis": {
                          "endlinecolor": "#2a3f5f",
                          "gridcolor": "white",
                          "linecolor": "white",
                          "minorgridcolor": "white",
                          "startlinecolor": "#2a3f5f"
                        },
                        "baxis": {
                          "endlinecolor": "#2a3f5f",
                          "gridcolor": "white",
                          "linecolor": "white",
                          "minorgridcolor": "white",
                          "startlinecolor": "#2a3f5f"
                        },
                        "type": "carpet"
                      }
                    ],
                    "choropleth": [
                      {
                        "colorbar": {
                          "outlinewidth": 0,
                          "ticks": ""
                        },
                        "type": "choropleth"
                      }
                    ],
                    "contour": [
                      {
                        "colorbar": {
                          "outlinewidth": 0,
                          "ticks": ""
                        },
                        "colorscale": [
                          [
                            0,
                            "#0d0887"
                          ],
                          [
                            0.1111111111111111,
                            "#46039f"
                          ],
                          [
                            0.2222222222222222,
                            "#7201a8"
                          ],
                          [
                            0.3333333333333333,
                            "#9c179e"
                          ],
                          [
                            0.4444444444444444,
                            "#bd3786"
                          ],
                          [
                            0.5555555555555556,
                            "#d8576b"
                          ],
                          [
                            0.6666666666666666,
                            "#ed7953"
                          ],
                          [
                            0.7777777777777778,
                            "#fb9f3a"
                          ],
                          [
                            0.8888888888888888,
                            "#fdca26"
                          ],
                          [
                            1,
                            "#f0f921"
                          ]
                        ],
                        "type": "contour"
                      }
                    ],
                    "contourcarpet": [
                      {
                        "colorbar": {
                          "outlinewidth": 0,
                          "ticks": ""
                        },
                        "type": "contourcarpet"
                      }
                    ],
                    "heatmap": [
                      {
                        "colorbar": {
                          "outlinewidth": 0,
                          "ticks": ""
                        },
                        "colorscale": [
                          [
                            0,
                            "#0d0887"
                          ],
                          [
                            0.1111111111111111,
                            "#46039f"
                          ],
                          [
                            0.2222222222222222,
                            "#7201a8"
                          ],
                          [
                            0.3333333333333333,
                            "#9c179e"
                          ],
                          [
                            0.4444444444444444,
                            "#bd3786"
                          ],
                          [
                            0.5555555555555556,
                            "#d8576b"
                          ],
                          [
                            0.6666666666666666,
                            "#ed7953"
                          ],
                          [
                            0.7777777777777778,
                            "#fb9f3a"
                          ],
                          [
                            0.8888888888888888,
                            "#fdca26"
                          ],
                          [
                            1,
                            "#f0f921"
                          ]
                        ],
                        "type": "heatmap"
                      }
                    ],
                    "histogram": [
                      {
                        "marker": {
                          "pattern": {
                            "fillmode": "overlay",
                            "size": 10,
                            "solidity": 0.2
                          }
                        },
                        "type": "histogram"
                      }
                    ],
                    "histogram2d": [
                      {
                        "colorbar": {
                          "outlinewidth": 0,
                          "ticks": ""
                        },
                        "colorscale": [
                          [
                            0,
                            "#0d0887"
                          ],
                          [
                            0.1111111111111111,
                            "#46039f"
                          ],
                          [
                            0.2222222222222222,
                            "#7201a8"
                          ],
                          [
                            0.3333333333333333,
                            "#9c179e"
                          ],
                          [
                            0.4444444444444444,
                            "#bd3786"
                          ],
                          [
                            0.5555555555555556,
                            "#d8576b"
                          ],
                          [
                            0.6666666666666666,
                            "#ed7953"
                          ],
                          [
                            0.7777777777777778,
                            "#fb9f3a"
                          ],
                          [
                            0.8888888888888888,
                            "#fdca26"
                          ],
                          [
                            1,
                            "#f0f921"
                          ]
                        ],
                        "type": "histogram2d"
                      }
                    ],
                    "histogram2dcontour": [
                      {
                        "colorbar": {
                          "outlinewidth": 0,
                          "ticks": ""
                        },
                        "colorscale": [
                          [
                            0,
                            "#0d0887"
                          ],
                          [
                            0.1111111111111111,
                            "#46039f"
                          ],
                          [
                            0.2222222222222222,
                            "#7201a8"
                          ],
                          [
                            0.3333333333333333,
                            "#9c179e"
                          ],
                          [
                            0.4444444444444444,
                            "#bd3786"
                          ],
                          [
                            0.5555555555555556,
                            "#d8576b"
                          ],
                          [
                            0.6666666666666666,
                            "#ed7953"
                          ],
                          [
                            0.7777777777777778,
                            "#fb9f3a"
                          ],
                          [
                            0.8888888888888888,
                            "#fdca26"
                          ],
                          [
                            1,
                            "#f0f921"
                          ]
                        ],
                        "type": "histogram2dcontour"
                      }
                    ],
                    "mesh3d": [
                      {
                        "colorbar": {
                          "outlinewidth": 0,
                          "ticks": ""
                        },
                        "type": "mesh3d"
                      }
                    ],
                    "parcoords": [
                      {
                        "line": {
                          "colorbar": {
                            "outlinewidth": 0,
                            "ticks": ""
                          }
                        },
                        "type": "parcoords"
                      }
                    ],
                    "pie": [
                      {
                        "automargin": true,
                        "type": "pie"
                      }
                    ],
                    "scatter": [
                      {
                        "fillpattern": {
                          "fillmode": "overlay",
                          "size": 10,
                          "solidity": 0.2
                        },
                        "type": "scatter"
                      }
                    ],
                    "scatter3d": [
                      {
                        "line": {
                          "colorbar": {
                            "outlinewidth": 0,
                            "ticks": ""
                          }
                        },
                        "marker": {
                          "colorbar": {
                            "outlinewidth": 0,
                            "ticks": ""
                          }
                        },
                        "type": "scatter3d"
                      }
                    ],
                    "scattercarpet": [
                      {
                        "marker": {
                          "colorbar": {
                            "outlinewidth": 0,
                            "ticks": ""
                          }
                        },
                        "type": "scattercarpet"
                      }
                    ],
                    "scattergeo": [
                      {
                        "marker": {
                          "colorbar": {
                            "outlinewidth": 0,
                            "ticks": ""
                          }
                        },
                        "type": "scattergeo"
                      }
                    ],
                    "scattergl": [
                      {
                        "marker": {
                          "colorbar": {
                            "outlinewidth": 0,
                            "ticks": ""
                          }
                        },
                        "type": "scattergl"
                      }
                    ],
                    "scattermap": [
                      {
                        "marker": {
                          "colorbar": {
                            "outlinewidth": 0,
                            "ticks": ""
                          }
                        },
                        "type": "scattermap"
                      }
                    ],
                    "scattermapbox": [
                      {
                        "marker": {
                          "colorbar": {
                            "outlinewidth": 0,
                            "ticks": ""
                          }
                        },
                        "type": "scattermapbox"
                      }
                    ],
                    "scatterpolar": [
                      {
                        "marker": {
                          "colorbar": {
                            "outlinewidth": 0,
                            "ticks": ""
                          }
                        },
                        "type": "scatterpolar"
                      }
                    ],
                    "scatterpolargl": [
                      {
                        "marker": {
                          "colorbar": {
                            "outlinewidth": 0,
                            "ticks": ""
                          }
                        },
                        "type": "scatterpolargl"
                      }
                    ],
                    "scatterternary": [
                      {
                        "marker": {
                          "colorbar": {
                            "outlinewidth": 0,
                            "ticks": ""
                          }
                        },
                        "type": "scatterternary"
                      }
                    ],
                    "surface": [
                      {
                        "colorbar": {
                          "outlinewidth": 0,
                          "ticks": ""
                        },
                        "colorscale": [
                          [
                            0,
                            "#0d0887"
                          ],
                          [
                            0.1111111111111111,
                            "#46039f"
                          ],
                          [
                            0.2222222222222222,
                            "#7201a8"
                          ],
                          [
                            0.3333333333333333,
                            "#9c179e"
                          ],
                          [
                            0.4444444444444444,
                            "#bd3786"
                          ],
                          [
                            0.5555555555555556,
                            "#d8576b"
                          ],
                          [
                            0.6666666666666666,
                            "#ed7953"
                          ],
                          [
                            0.7777777777777778,
                            "#fb9f3a"
                          ],
                          [
                            0.8888888888888888,
                            "#fdca26"
                          ],
                          [
                            1,
                            "#f0f921"
                          ]
                        ],
                        "type": "surface"
                      }
                    ],
                    "table": [
                      {
                        "cells": {
                          "fill": {
                            "color": "#EBF0F8"
                          },
                          "line": {
                            "color": "white"
                          }
                        },
                        "header": {
                          "fill": {
                            "color": "#C8D4E3"
                          },
                          "line": {
                            "color": "white"
                          }
                        },
                        "type": "table"
                      }
                    ]
                  },
                  "layout": {
                    "annotationdefaults": {
                      "arrowcolor": "#2a3f5f",
                      "arrowhead": 0,
                      "arrowwidth": 1
                    },
                    "autotypenumbers": "strict",
                    "coloraxis": {
                      "colorbar": {
                        "outlinewidth": 0,
                        "ticks": ""
                      }
                    },
                    "colorscale": {
                      "diverging": [
                        [
                          0,
                          "#8e0152"
                        ],
                        [
                          0.1,
                          "#c51b7d"
                        ],
                        [
                          0.2,
                          "#de77ae"
                        ],
                        [
                          0.3,
                          "#f1b6da"
                        ],
                        [
                          0.4,
                          "#fde0ef"
                        ],
                        [
                          0.5,
                          "#f7f7f7"
                        ],
                        [
                          0.6,
                          "#e6f5d0"
                        ],
                        [
                          0.7,
                          "#b8e186"
                        ],
                        [
                          0.8,
                          "#7fbc41"
                        ],
                        [
                          0.9,
                          "#4d9221"
                        ],
                        [
                          1,
                          "#276419"
                        ]
                      ],
                      "sequential": [
                        [
                          0,
                          "#0d0887"
                        ],
                        [
                          0.1111111111111111,
                          "#46039f"
                        ],
                        [
                          0.2222222222222222,
                          "#7201a8"
                        ],
                        [
                          0.3333333333333333,
                          "#9c179e"
                        ],
                        [
                          0.4444444444444444,
                          "#bd3786"
                        ],
                        [
                          0.5555555555555556,
                          "#d8576b"
                        ],
                        [
                          0.6666666666666666,
                          "#ed7953"
                        ],
                        [
                          0.7777777777777778,
                          "#fb9f3a"
                        ],
                        [
                          0.8888888888888888,
                          "#fdca26"
                        ],
                        [
                          1,
                          "#f0f921"
                        ]
                      ],
                      "sequentialminus": [
                        [
                          0,
                          "#0d0887"
                        ],
                        [
                          0.1111111111111111,
                          "#46039f"
                        ],
                        [
                          0.2222222222222222,
                          "#7201a8"
                        ],
                        [
                          0.3333333333333333,
                          "#9c179e"
                        ],
                        [
                          0.4444444444444444,
                          "#bd3786"
                        ],
                        [
                          0.5555555555555556,
                          "#d8576b"
                        ],
                        [
                          0.6666666666666666,
                          "#ed7953"
                        ],
                        [
                          0.7777777777777778,
                          "#fb9f3a"
                        ],
                        [
                          0.8888888888888888,
                          "#fdca26"
                        ],
                        [
                          1,
                          "#f0f921"
                        ]
                      ]
                    },
                    "colorway": [
                      "#636efa",
                      "#EF553B",
                      "#00cc96",
                      "#ab63fa",
                      "#FFA15A",
                      "#19d3f3",
                      "#FF6692",
                      "#B6E880",
                      "#FF97FF",
                      "#FECB52"
                    ],
                    "font": {
                      "color": "#2a3f5f"
                    },
                    "geo": {
                      "bgcolor": "white",
                      "lakecolor": "white",
                      "landcolor": "#E5ECF6",
                      "showlakes": true,
                      "showland": true,
                      "subunitcolor": "white"
                    },
                    "hoverlabel": {
                      "align": "left"
                    },
                    "hovermode": "closest",
                    "mapbox": {
                      "style": "light"
                    },
                    "paper_bgcolor": "white",
                    "plot_bgcolor": "#E5ECF6",
                    "polar": {
                      "angularaxis": {
                        "gridcolor": "white",
                        "linecolor": "white",
                        "ticks": ""
                      },
                      "bgcolor": "#E5ECF6",
                      "radialaxis": {
                        "gridcolor": "white",
                        "linecolor": "white",
                        "ticks": ""
                      }
                    },
                    "scene": {
                      "xaxis": {
                        "backgroundcolor": "#E5ECF6",
                        "gridcolor": "white",
                        "gridwidth": 2,
                        "linecolor": "white",
                        "showbackground": true,
                        "ticks": "",
                        "zerolinecolor": "white"
                      },
                      "yaxis": {
                        "backgroundcolor": "#E5ECF6",
                        "gridcolor": "white",
                        "gridwidth": 2,
                        "linecolor": "white",
                        "showbackground": true,
                        "ticks": "",
                        "zerolinecolor": "white"
                      },
                      "zaxis": {
                        "backgroundcolor": "#E5ECF6",
                        "gridcolor": "white",
                        "gridwidth": 2,
                        "linecolor": "white",
                        "showbackground": true,
                        "ticks": "",
                        "zerolinecolor": "white"
                      }
                    },
                    "shapedefaults": {
                      "line": {
                        "color": "#2a3f5f"
                      }
                    },
                    "ternary": {
                      "aaxis": {
                        "gridcolor": "white",
                        "linecolor": "white",
                        "ticks": ""
                      },
                      "baxis": {
                        "gridcolor": "white",
                        "linecolor": "white",
                        "ticks": ""
                      },
                      "bgcolor": "#E5ECF6",
                      "caxis": {
                        "gridcolor": "white",
                        "linecolor": "white",
                        "ticks": ""
                      }
                    },
                    "title": {
                      "x": 0.05
                    },
                    "xaxis": {
                      "automargin": true,
                      "gridcolor": "white",
                      "linecolor": "white",
                      "ticks": "",
                      "title": {
                        "standoff": 15
                      },
                      "zerolinecolor": "white",
                      "zerolinewidth": 2
                    },
                    "yaxis": {
                      "automargin": true,
                      "gridcolor": "white",
                      "linecolor": "white",
                      "ticks": "",
                      "title": {
                        "standoff": 15
                      },
                      "zerolinecolor": "white",
                      "zerolinewidth": 2
                    }
                  }
                },
                "title": {
                  "text": "xc"
                },
                "xaxis": {
                  "anchor": "y",
                  "domain": [
                    0,
                    1
                  ],
                  "title": {
                    "text": "index"
                  }
                },
                "yaxis": {
                  "anchor": "x",
                  "domain": [
                    0,
                    1
                  ],
                  "title": {
                    "text": "condition"
                  }
                }
              }
            }
          },
          "metadata": {},
          "output_type": "display_data"
        }
      ],
      "source": [
        "plot_bar_chart(df_train)"
      ]
    },
    {
      "cell_type": "markdown",
      "metadata": {
        "colab_type": "text",
        "id": "MCE4ntKKUrb9"
      },
      "source": [
        "## Reviews Preprocessing"
      ]
    },
    {
      "cell_type": "markdown",
      "metadata": {
        "colab_type": "text",
        "id": "TjZEWRi9qYQc"
      },
      "source": [
        "### Removing Stepwords and stemming"
      ]
    },
    {
      "cell_type": "code",
      "execution_count": 18,
      "metadata": {
        "colab": {
          "base_uri": "https://localhost:8080/",
          "height": 69
        },
        "colab_type": "code",
        "id": "j3vbOMLDqjFg",
        "outputId": "b7dcc6dc-e28a-41eb-be2d-41893ea2c0a9"
      },
      "outputs": [
        {
          "name": "stderr",
          "output_type": "stream",
          "text": [
            "[nltk_data] Downloading package stopwords to\n",
            "[nltk_data]     C:\\Users\\snied\\AppData\\Roaming\\nltk_data...\n",
            "[nltk_data]   Package stopwords is already up-to-date!\n"
          ]
        },
        {
          "data": {
            "text/plain": [
              "True"
            ]
          },
          "execution_count": 18,
          "metadata": {},
          "output_type": "execute_result"
        }
      ],
      "source": [
        "import nltk\n",
        "nltk.download('stopwords')"
      ]
    },
    {
      "cell_type": "markdown",
      "metadata": {
        "colab_type": "text",
        "id": "7p6ZKgxhPxwr"
      },
      "source": [
        "### Lower Casing Reviews"
      ]
    },
    {
      "cell_type": "code",
      "execution_count": 19,
      "metadata": {
        "colab": {},
        "colab_type": "code",
        "id": "lFORfDgPp2On"
      },
      "outputs": [],
      "source": [
        "# combining drug name with review\n",
        "# df_train[\"combined\"] = df_train[\"drugName\"].str.lower() + \": \" + df_train[\"review\"].str.lower()\n",
        "# df_test[\"combined\"] = df_test[\"drugName\"].str.lower() + \": \" + df_test[\"review\"].str.lower()\n",
        "\n",
        "df_train[\"review\"] = df_train[\"review\"].str.lower()\n",
        "df_test[\"review\"] = df_test[\"review\"].str.lower()"
      ]
    },
    {
      "cell_type": "code",
      "execution_count": 20,
      "metadata": {
        "colab": {},
        "colab_type": "code",
        "id": "VWtV-f7SqCSq"
      },
      "outputs": [],
      "source": [
        "import string\n",
        "\n",
        "def filter_data(reviews):\n",
        "  \n",
        "  \"\"\"\n",
        "  Filter the corpus of training and testing df.\n",
        "  This function removes stop and stem words from the corpus\n",
        "  :param reviews:\n",
        "  :return:\n",
        "  \"\"\"\n",
        "  stop = stopwords.words('english')\n",
        "  stemmer = SnowballStemmer(\"english\")\n",
        "\n",
        "  # remove punctuations\n",
        "  series = reviews.str.replace('[{}]'.format(string.punctuation), '')\n",
        "\n",
        "  # remove stop words\n",
        "  series = series.apply(\n",
        "      lambda x: ' '.join([word for word in x.split() if word not in stop]))\n",
        "\n",
        "  # remove stem words\n",
        "  series = series.apply(lambda x: ' '.join([stemmer.stem(word) for word in x.split()]))\n",
        "\n",
        "  return series\n",
        "    \n",
        "df_train[\"review\"] = filter_data(df_train[\"review\"]).str.lower()\n",
        "df_test[\"review\"] = filter_data(df_test[\"review\"]).str.lower()"
      ]
    },
    {
      "cell_type": "markdown",
      "metadata": {
        "colab_type": "text",
        "id": "T539dPZQp0cg"
      },
      "source": [
        "### Lowercasing Classes"
      ]
    },
    {
      "cell_type": "code",
      "execution_count": 21,
      "metadata": {
        "colab": {},
        "colab_type": "code",
        "id": "4Jr9ECMVp8c7"
      },
      "outputs": [],
      "source": [
        "df_train[\"Label\"] = df_train[\"condition\"].str.lower()\n",
        "df_test[\"Label\"] = df_test[\"condition\"].str.lower()"
      ]
    },
    {
      "cell_type": "code",
      "execution_count": 22,
      "metadata": {
        "colab": {
          "base_uri": "https://localhost:8080/",
          "height": 225
        },
        "colab_type": "code",
        "id": "UfIWTejVKv_l",
        "outputId": "473eb160-a6e0-4a26-b072-b4a5971b2cfa"
      },
      "outputs": [
        {
          "data": {
            "text/plain": [
              "0                          depression\n",
              "1        crohn's disease, maintenance\n",
              "2             urinary tract infection\n",
              "3                         weight loss\n",
              "4                       birth control\n",
              "                     ...             \n",
              "53760                   birth control\n",
              "53762                         anxiety\n",
              "53763                   birth control\n",
              "53764                            pain\n",
              "53765                        sciatica\n",
              "Name: Label, Length: 51122, dtype: object"
            ]
          },
          "execution_count": 22,
          "metadata": {},
          "output_type": "execute_result"
        }
      ],
      "source": [
        "df_test[\"Label\"]"
      ]
    },
    {
      "cell_type": "markdown",
      "metadata": {
        "colab_type": "text",
        "id": "gGZlqzgJq4DL"
      },
      "source": [
        "## Creating Model for Reviews Only"
      ]
    },
    {
      "cell_type": "code",
      "execution_count": 23,
      "metadata": {
        "colab": {},
        "colab_type": "code",
        "id": "WWHh599omIP-"
      },
      "outputs": [],
      "source": [
        "# shuffle the training dataframe and saving the columns in X and Y\n",
        "df_train = df_train.sample(frac=1)\n",
        "X = df_train['review']\n",
        "Y = df_train['Label']"
      ]
    },
    {
      "cell_type": "markdown",
      "metadata": {
        "colab_type": "text",
        "id": "AW1p67xtQ60o"
      },
      "source": [
        "### Creating Count Vectorizer Object and transforming whole training dataset from it"
      ]
    },
    {
      "cell_type": "code",
      "execution_count": 24,
      "metadata": {
        "colab": {},
        "colab_type": "code",
        "id": "kmYfmhA3Qlo2"
      },
      "outputs": [],
      "source": [
        "count_vectorizer = CountVectorizer(ngram_range=(1,2))\n",
        "X_count_vec = count_vectorizer.fit_transform(X)"
      ]
    },
    {
      "cell_type": "markdown",
      "metadata": {
        "colab_type": "text",
        "id": "N_4aY1tOQlTC"
      },
      "source": [
        "### Defining a function for K-Fold Cross Validation for multiple classifiers"
      ]
    },
    {
      "cell_type": "code",
      "execution_count": 25,
      "metadata": {
        "colab": {},
        "colab_type": "code",
        "id": "K9KZnP2iGGeL"
      },
      "outputs": [],
      "source": [
        "def cross_val_multiple_classifiers(X, Y):\n",
        "  classifiers = [MultinomialNB(), SGDClassifier(loss=\"modified_huber\"), \n",
        "                 RandomForestClassifier(n_estimators=100), \n",
        "                 KNeighborsClassifier(n_neighbors=5)]\n",
        "  labels = ['Multinomial Naive Bayes', 'SGD Classifier', 'Random Forest',  'KNN']\n",
        "  clf_cv_mean = []\n",
        "  clf_cv_std = []\n",
        "  for clf, label in zip(classifiers, labels): \n",
        "      scores = cross_val_score(clf, X, Y, cv=4, scoring='accuracy')\n",
        "      print (\"Accuracy: %.2f (+/- %.2f) [%s]\" %(scores.mean(), scores.std(), label))"
      ]
    },
    {
      "cell_type": "markdown",
      "metadata": {
        "colab_type": "text",
        "id": "xTl5f1W1SHcw"
      },
      "source": [
        "#### Calling K Fold validation of multiple classifiers on Count Vectorized Dataset"
      ]
    },
    {
      "cell_type": "code",
      "execution_count": 26,
      "metadata": {
        "colab": {
          "base_uri": "https://localhost:8080/",
          "height": 87
        },
        "colab_type": "code",
        "id": "7mJDUSOW0KPo",
        "outputId": "51383459-858a-410d-d1a8-ef411311cb82"
      },
      "outputs": [
        {
          "name": "stdout",
          "output_type": "stream",
          "text": [
            "Accuracy: 0.40 (+/- 0.00) [Multinomial Naive Bayes]\n",
            "Accuracy: 0.46 (+/- 0.01) [SGD Classifier]\n",
            "Accuracy: 0.53 (+/- 0.00) [Random Forest]\n",
            "Accuracy: 0.05 (+/- 0.01) [KNN]\n"
          ]
        }
      ],
      "source": [
        "# calling multiple classifiers on the vectorized features\n",
        "cross_val_multiple_classifiers(X_count_vec, Y)"
      ]
    },
    {
      "cell_type": "markdown",
      "metadata": {
        "colab_type": "text",
        "id": "qvxm50PkYEUQ"
      },
      "source": [
        "## Training the best model for getting results on the Test Set"
      ]
    },
    {
      "cell_type": "code",
      "execution_count": 27,
      "metadata": {
        "colab": {},
        "colab_type": "code",
        "id": "zjF-hhk7YQUP"
      },
      "outputs": [],
      "source": [
        "# training the Random Forest Classifier on complete training data\n",
        "fin_clf = RandomForestClassifier(n_estimators=100)\n",
        "fin_clf.fit(X_count_vec, Y)\n",
        "\n",
        "# transforming test_data with count vectorizer\n",
        "X_test_vec = count_vectorizer.transform(df_test['review'])\n",
        "\n",
        "# getting preds on the test data\n",
        "preds = fin_clf.predict(X_test_vec)"
      ]
    },
    {
      "cell_type": "code",
      "execution_count": 28,
      "metadata": {
        "colab": {
          "base_uri": "https://localhost:8080/",
          "height": 69
        },
        "colab_type": "code",
        "id": "Cb82nRdzN67c",
        "outputId": "6e9efc0e-1284-4d4a-8f07-8d32f393bbce"
      },
      "outputs": [
        {
          "name": "stdout",
          "output_type": "stream",
          "text": [
            "Accuracy on test data:  0.7039630687375298\n",
            "Macro F-1 Score on test data:  0.8592374155000988\n",
            "Micro F-1 Score on test data:  0.7039630687375298\n"
          ]
        }
      ],
      "source": [
        "from sklearn.metrics import accuracy_score\n",
        "from sklearn.metrics import f1_score\n",
        "\n",
        "print(\"Accuracy on test data: \", accuracy_score(df_test[\"Label\"].str.lower(), \n",
        "                                                preds))\n",
        "print(\"Macro F-1 Score on test data: \", f1_score(df_test[\"Label\"].str.lower(), \n",
        "                                                preds, average=\"macro\"))\n",
        "print(\"Micro F-1 Score on test data: \", f1_score(df_test[\"Label\"].str.lower(), \n",
        "                                                preds, average=\"micro\"))"
      ]
    },
    {
      "cell_type": "markdown",
      "metadata": {},
      "source": [
        "## Production example"
      ]
    },
    {
      "cell_type": "code",
      "execution_count": 29,
      "metadata": {},
      "outputs": [
        {
          "name": "stdout",
          "output_type": "stream",
          "text": [
            "Diagnose:  alcohol dependence\n"
          ]
        }
      ],
      "source": [
        "# example input\n",
        "input = \"I was lying all day long and had to drink several times a day\"\n",
        "\n",
        "# transforming input with count vectorizer\n",
        "X_input_vec = count_vectorizer.transform([input,])\n",
        "\n",
        "# getting preds on the test data\n",
        "preds = fin_clf.predict(X_input_vec)\n",
        "\n",
        "print(\"Diagnose: \", preds[0])"
      ]
    }
  ],
  "metadata": {
    "colab": {
      "authorship_tag": "ABX9TyPD+TiFthwv7/6yAksZQzI+",
      "mount_file_id": "1zBYsRBwcXwalkL2FHKvslZwjZRGZZDeR",
      "name": "Classifying Medical Condition using Statistical Models - Part 1.ipynb",
      "provenance": [],
      "toc_visible": true
    },
    "kernelspec": {
      "display_name": "venv",
      "language": "python",
      "name": "python3"
    },
    "language_info": {
      "codemirror_mode": {
        "name": "ipython",
        "version": 3
      },
      "file_extension": ".py",
      "mimetype": "text/x-python",
      "name": "python",
      "nbconvert_exporter": "python",
      "pygments_lexer": "ipython3",
      "version": "3.11.9"
    }
  },
  "nbformat": 4,
  "nbformat_minor": 0
}
